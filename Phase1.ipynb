{
 "cells": [
  {
   "cell_type": "markdown",
   "metadata": {},
   "source": [
    "# IAU - Inteligentná analýza údajov (2024/2025)\n",
    "\n",
    "#### Autori: Jan Lenhart (50 %), Marek Čederle (50 %)\n",
    "##### Cvičenie: Pondelok 15:00, Cvičiaci: Ing. Oleksandr Lytvyn"
   ]
  },
  {
   "cell_type": "markdown",
   "metadata": {},
   "source": [
    "## Fáza 1 - Prieskumná analýza"
   ]
  },
  {
   "cell_type": "markdown",
   "metadata": {},
   "source": [
    "Na začiatok si importujeme knižnice a načítame dáta do dátových rámcov (dataframov)."
   ]
  },
  {
   "cell_type": "code",
   "execution_count": null,
   "metadata": {},
   "outputs": [],
   "source": [
    "import pandas as pd\n",
    "import seaborn as sns\n",
    "import numpy as np\n",
    "import matplotlib.pyplot as plt\n",
    "from PIL import Image\n",
    "from copy import copy\n",
    "from scipy import stats\n",
    "import statsmodels.api as sm\n",
    "from scipy.stats import ks_2samp"
   ]
  },
  {
   "cell_type": "code",
   "execution_count": null,
   "metadata": {},
   "outputs": [],
   "source": [
    "pd.set_option(\"display.width\", 2**20)\n",
    "pd.set_option(\"display.max_columns\", 32)"
   ]
  },
  {
   "cell_type": "code",
   "execution_count": null,
   "metadata": {},
   "outputs": [],
   "source": [
    "df_connections = pd.read_csv('112/connections.csv', delimiter=',')\n",
    "# keep_default_na=False  bolo treba aby nacitalo dobry format pre 'NA' string v devices.csv\n",
    "df_devices     = pd.read_csv('112/devices.csv', delimiter=',', keep_default_na=False)\n",
    "df_processes   = pd.read_csv('112/processes.csv', delimiter=',')\n",
    "df_profiles    = pd.read_csv(\"112/profiles.csv\", delimiter=',')"
   ]
  },
  {
   "cell_type": "markdown",
   "metadata": {},
   "source": [
    "### 1.1 Základný opis dát spolu s ich charakteristikami"
   ]
  },
  {
   "cell_type": "markdown",
   "metadata": {},
   "source": [
    "#### 1.1.A Analýza štruktúry dát"
   ]
  },
  {
   "cell_type": "markdown",
   "metadata": {},
   "source": [
    "##### Štruktúra dát - počty riadkov a stĺpcov, dátové typy"
   ]
  },
  {
   "cell_type": "code",
   "execution_count": null,
   "metadata": {},
   "outputs": [],
   "source": [
    "df_connections.info()"
   ]
  },
  {
   "cell_type": "markdown",
   "metadata": {},
   "source": [
    "Data frame `df_connections`\n",
    "- Obsahuje 15126 riadkov (záznamov) a 13 stĺpcov.\n",
    "- Všetky stĺpce okrem `ts` a `imei` sú typu `float64` čiže nejaké reálne čísla.\n",
    "- Stĺpec `ts` je typu `object` čiže nejaký zložitejší dátový typ. (V podstate `string`)\n",
    "- Stĺpec `imei` je typu `int64` čiže celé číslo."
   ]
  },
  {
   "cell_type": "code",
   "execution_count": null,
   "metadata": {},
   "outputs": [],
   "source": [
    "df_devices.info()"
   ]
  },
  {
   "cell_type": "markdown",
   "metadata": {},
   "source": [
    "Data frame `df_devices`\n",
    "- Obsahuje 2947 riadkov (záznamov) a 6 stĺpcov\n",
    "- Stĺpce `latitude` a `longitude` sú typu `float64` čiže nejaké reálne čísla.\n",
    "- Stĺpce `store_name`, `code` a `location` sú typu `object` čiže nejaký zložitejší dátový typ. (V podstate `string`)\n",
    "- Stĺpec `imei` je typu `int64` čiže celé číslo."
   ]
  },
  {
   "cell_type": "code",
   "execution_count": null,
   "metadata": {},
   "outputs": [],
   "source": [
    "df_processes.info()"
   ]
  },
  {
   "cell_type": "markdown",
   "metadata": {},
   "source": [
    "Data frame `df_processes`\n",
    "- Obsahuje 15126 riadkov (záznamov) a 23 stĺpcov\n",
    "\n",
    "- Všetky stĺpce okrem `ts` a `imei` sú typu `float64` čiže nejaké reálne čísla.\n",
    "- Stĺpec `ts` je typu `object` čiže nejaký zložitejší dátový typ. (V podstate `string`)\n",
    "- Stĺpec `imei` je typu `int64` čiže celé číslo."
   ]
  },
  {
   "cell_type": "code",
   "execution_count": null,
   "metadata": {},
   "outputs": [],
   "source": [
    "df_profiles.info()"
   ]
  },
  {
   "cell_type": "markdown",
   "metadata": {},
   "source": [
    "Data frame `df_profiles`\n",
    "- Obsahuje 2553 riadkov (záznamov) a 12 stĺpcov\n",
    "\n",
    "- Všetky stĺpce okrem `user_id` a `imei` sú typu `object` čiže nejaký zložitejší dátový typ. (V podstate `string`)\n",
    "- Stĺpece `imei` a `user_id` sú typu `int64` čiže celé číslo."
   ]
  },
  {
   "cell_type": "markdown",
   "metadata": {},
   "source": [
    "IMEI je unikátny identifikátor mobilného zariadenia, ktorý sa nachádza vo všetkých rámcoch, takže ho bude možné použiť ako primárny kľúč na spájanie tabuliek, ak to bude neskôr potrebné."
   ]
  },
  {
   "cell_type": "markdown",
   "metadata": {},
   "source": [
    "##### Ukážka dát z daných data framov ako tabuľka záznamov"
   ]
  },
  {
   "cell_type": "markdown",
   "metadata": {},
   "source": [
    "**Connections**"
   ]
  },
  {
   "cell_type": "code",
   "execution_count": null,
   "metadata": {},
   "outputs": [],
   "source": [
    "df_connections.head()"
   ]
  },
  {
   "cell_type": "markdown",
   "metadata": {},
   "source": [
    "**Devices**"
   ]
  },
  {
   "cell_type": "code",
   "execution_count": null,
   "metadata": {},
   "outputs": [],
   "source": [
    "df_devices.head()"
   ]
  },
  {
   "cell_type": "markdown",
   "metadata": {},
   "source": [
    "**Processes**"
   ]
  },
  {
   "cell_type": "code",
   "execution_count": null,
   "metadata": {},
   "outputs": [],
   "source": [
    "df_processes.head()"
   ]
  },
  {
   "cell_type": "markdown",
   "metadata": {},
   "source": [
    "**Profiles**"
   ]
  },
  {
   "cell_type": "code",
   "execution_count": null,
   "metadata": {},
   "outputs": [],
   "source": [
    "df_profiles.head()"
   ]
  },
  {
   "cell_type": "markdown",
   "metadata": {},
   "source": [
    "#### 1.1.B Analýza jednotlivých atribútov"
   ]
  },
  {
   "cell_type": "markdown",
   "metadata": {},
   "source": [
    "##### Deskriptívne štatistiky (pre dataframy) a distribúcie pre vybrané atribúty"
   ]
  },
  {
   "cell_type": "markdown",
   "metadata": {},
   "source": [
    "**Connections**"
   ]
  },
  {
   "cell_type": "code",
   "execution_count": null,
   "metadata": {},
   "outputs": [],
   "source": [
    "df_connections.describe()"
   ]
  },
  {
   "cell_type": "code",
   "execution_count": null,
   "metadata": {},
   "outputs": [],
   "source": [
    "df_connections['mwra'].value_counts()"
   ]
  },
  {
   "cell_type": "markdown",
   "metadata": {},
   "source": [
    "Môžeme si všimnúť že stĺpec `mwra` má hodnotu 0 alebo 1 s tým, že hodnôt 1 je viacej ako hodnôt 0.\n",
    "\n",
    "Taktiež vidíme že všetky stĺpce okrem `imei` a `mwra` majú hodnoty v rozsahu od 0 do 100, s tým že niektoré majú interval viacej ohraničený."
   ]
  },
  {
   "cell_type": "code",
   "execution_count": null,
   "metadata": {},
   "outputs": [],
   "source": [
    "sns.histplot(df_connections['c.katana'], kde=True, color='blue')"
   ]
  },
  {
   "cell_type": "code",
   "execution_count": null,
   "metadata": {},
   "outputs": [],
   "source": [
    "stats.probplot(df_connections[\"c.katana\"], dist=\"norm\", plot=plt)"
   ]
  },
  {
   "cell_type": "code",
   "execution_count": null,
   "metadata": {},
   "outputs": [],
   "source": [
    "stats.mode(df_connections['c.katana'])"
   ]
  },
  {
   "cell_type": "code",
   "execution_count": null,
   "metadata": {},
   "outputs": [],
   "source": [
    "sns.histplot(df_connections['c.android.gm'], kde=True, color='red')"
   ]
  },
  {
   "cell_type": "code",
   "execution_count": null,
   "metadata": {},
   "outputs": [],
   "source": [
    "stats.probplot(df_connections[\"c.android.gm\"], dist=\"norm\", plot=plt)"
   ]
  },
  {
   "cell_type": "code",
   "execution_count": null,
   "metadata": {},
   "outputs": [],
   "source": [
    "stats.mode(df_connections['c.android.gm'])"
   ]
  },
  {
   "cell_type": "code",
   "execution_count": null,
   "metadata": {},
   "outputs": [],
   "source": [
    "sns.histplot(df_connections['c.android.chrome'], kde=True, color='yellow')"
   ]
  },
  {
   "cell_type": "code",
   "execution_count": null,
   "metadata": {},
   "outputs": [],
   "source": [
    "stats.probplot(df_connections[\"c.android.chrome\"], dist=\"norm\", plot=plt)"
   ]
  },
  {
   "cell_type": "code",
   "execution_count": null,
   "metadata": {},
   "outputs": [],
   "source": [
    "stats.mode(df_connections['c.android.chrome'])"
   ]
  },
  {
   "cell_type": "code",
   "execution_count": null,
   "metadata": {},
   "outputs": [],
   "source": [
    "sns.histplot(df_connections['c.dogalize'], kde=True, color='green')"
   ]
  },
  {
   "cell_type": "code",
   "execution_count": null,
   "metadata": {},
   "outputs": [],
   "source": [
    "stats.probplot(df_connections[\"c.dogalize\"], dist=\"norm\", plot=plt)"
   ]
  },
  {
   "cell_type": "code",
   "execution_count": null,
   "metadata": {},
   "outputs": [],
   "source": [
    "stats.mode(df_connections['c.dogalize'])"
   ]
  },
  {
   "cell_type": "markdown",
   "metadata": {},
   "source": [
    "Vybrané stĺpce z dátoveho rámca `df_connections` boli tie, ktoré mali významnú koreláciu(informácia získaná v 1.1.D). Distribúcia na histograme stĺpca `c.katana` a stĺpca `c.android.chrome` sa naviac podobá normálnej distribúcii v porovnaní s ostatnými distribúciami vybraných stĺpcov z `df_connections`. Síce bolo vidieť, že okraje (tails) distribúcie nevyzerajú na okraje normálnej distribúcie. Preto sme si urobili `qqplot`, na ktorom bolo vidieť podstatný rozdiel normálovou distribúciou. Môžeme jedine povedať, že sa to podobá normálovej distribúcie a potvrdiť to štatistickým testom.\n",
    "\n",
    "Taktiež vidíme modus vybraných stĺpcov z dátoveho rámca `df_connections` čo sú vlastne najviac vyskztujúce sa hodnoty."
   ]
  },
  {
   "cell_type": "code",
   "execution_count": null,
   "metadata": {},
   "outputs": [],
   "source": [
    "def print_normality_test(df):\n",
    "    if df.count() > 5000:\n",
    "        stat, p_value = stats.kstest(df, 'norm')\n",
    "        print(f\"kstest for count={df.count()}: [stat: {stat}, p: {p_value}, norm: {p_value > 0.05}]\")\n",
    "    else:\n",
    "        stat, p_value = stats.shapiro(df)\n",
    "        print(f\"stat: for count={df.count()}: [stat: {stat}, p: {p_value}, norm: {p_value > 0.05}]\")"
   ]
  },
  {
   "cell_type": "code",
   "execution_count": null,
   "metadata": {},
   "outputs": [],
   "source": [
    "print_normality_test(df_connections[\"c.katana\"])\n",
    "print_normality_test(df_connections[\"c.android.gm\"])\n",
    "print_normality_test(df_connections[\"c.android.chrome\"])\n",
    "print_normality_test(df_connections[\"c.dogalize\"])"
   ]
  },
  {
   "cell_type": "markdown",
   "metadata": {},
   "source": [
    "Počet záznamov je väčší ako 5000, preto bol použitý Kolmogorov-Smirnov (`kstest`) namiesto Shapiro-Wilk z ktorého vyplíva, že dáta vo vybraných stĺpcoch nespĺňajú normálovú distribúciu pretože p-hodnota je menšia ako 0.05."
   ]
  },
  {
   "cell_type": "markdown",
   "metadata": {},
   "source": [
    "**Devices**"
   ]
  },
  {
   "cell_type": "code",
   "execution_count": null,
   "metadata": {},
   "outputs": [],
   "source": [
    "df_devices.describe()"
   ]
  },
  {
   "cell_type": "markdown",
   "metadata": {},
   "source": [
    "- Máme štatistiku iba z atribútov, ktoré majú numerický dátový typ.\n",
    "- Atribúty `latitude` a `longitude` sú zemepisné súradnice a ich deskriptívna štatistika nemá veľký význam pri týchto dátach pretože sú to zemepisné súradnice a nie numerické hodnoty s ktorými by sme mohli ďalej pracovať. Informácia o tom, aký je napr. mean pre zemepisnú šírku nám nedáva žiadny význam.\n",
    "- Atribút `imei` je unikátny identifikátor mobilného zariadenia a jeho deskriptívna štatistika nemá veľký význam."
   ]
  },
  {
   "cell_type": "markdown",
   "metadata": {},
   "source": [
    "**Processes**"
   ]
  },
  {
   "cell_type": "code",
   "execution_count": null,
   "metadata": {},
   "outputs": [],
   "source": [
    "\n",
    "df_processes.describe()"
   ]
  },
  {
   "cell_type": "code",
   "execution_count": null,
   "metadata": {},
   "outputs": [],
   "source": [
    "df_processes['mwra'].value_counts()"
   ]
  },
  {
   "cell_type": "markdown",
   "metadata": {},
   "source": [
    "Môžeme si všimnúť že stĺpec `mwra` má hodnotu 0 alebo 1 s tým, že hodnôt 1 je viacej ako hodnôt 0.\n",
    "\n",
    "Taktiež vidíme že všetky stĺpce okrem `imei` a `mwra` majú hodnoty v rozsahu od 0 do 100, s tým že niektoré majú interval viacej ohraničený."
   ]
  },
  {
   "cell_type": "code",
   "execution_count": null,
   "metadata": {},
   "outputs": [],
   "source": [
    "sns.histplot(df_processes['p.android.gm'], kde=True, color='blue')"
   ]
  },
  {
   "cell_type": "code",
   "execution_count": null,
   "metadata": {},
   "outputs": [],
   "source": [
    "stats.probplot(df_processes[\"p.android.gm\"], dist=\"norm\", plot=plt)"
   ]
  },
  {
   "cell_type": "code",
   "execution_count": null,
   "metadata": {},
   "outputs": [],
   "source": [
    "stats.mode(df_processes['p.android.gm'])"
   ]
  },
  {
   "cell_type": "code",
   "execution_count": null,
   "metadata": {},
   "outputs": [],
   "source": [
    "sns.histplot(df_processes['p.system'], kde=True, color='red')"
   ]
  },
  {
   "cell_type": "code",
   "execution_count": null,
   "metadata": {},
   "outputs": [],
   "source": [
    "stats.probplot(df_processes[\"p.system\"], dist=\"norm\", plot=plt)"
   ]
  },
  {
   "cell_type": "code",
   "execution_count": null,
   "metadata": {},
   "outputs": [],
   "source": [
    "stats.mode(df_processes['p.system'])"
   ]
  },
  {
   "cell_type": "code",
   "execution_count": null,
   "metadata": {},
   "outputs": [],
   "source": [
    "sns.histplot(df_processes['p.android.chrome'], kde=True, color='yellow')"
   ]
  },
  {
   "cell_type": "code",
   "execution_count": null,
   "metadata": {},
   "outputs": [],
   "source": [
    "stats.probplot(df_processes[\"p.android.chrome\"], dist=\"norm\", plot=plt)"
   ]
  },
  {
   "cell_type": "code",
   "execution_count": null,
   "metadata": {},
   "outputs": [],
   "source": [
    "stats.mode(df_processes['p.android.chrome'])"
   ]
  },
  {
   "cell_type": "code",
   "execution_count": null,
   "metadata": {},
   "outputs": [],
   "source": [
    "sns.histplot(df_processes['p.browser.provider'], kde=True, color='green')"
   ]
  },
  {
   "cell_type": "code",
   "execution_count": null,
   "metadata": {},
   "outputs": [],
   "source": [
    "stats.probplot(df_processes[\"p.browser.provider\"], dist=\"norm\", plot=plt)"
   ]
  },
  {
   "cell_type": "code",
   "execution_count": null,
   "metadata": {},
   "outputs": [],
   "source": [
    "stats.mode(df_processes['p.browser.provider'])"
   ]
  },
  {
   "cell_type": "code",
   "execution_count": null,
   "metadata": {},
   "outputs": [],
   "source": [
    "sns.histplot(df_processes['p.android.documentsui'], kde=True, color='magenta')"
   ]
  },
  {
   "cell_type": "code",
   "execution_count": null,
   "metadata": {},
   "outputs": [],
   "source": [
    "stats.probplot(df_processes[\"p.android.documentsui\"], dist=\"norm\", plot=plt)"
   ]
  },
  {
   "cell_type": "code",
   "execution_count": null,
   "metadata": {},
   "outputs": [],
   "source": [
    "stats.mode(df_processes['p.android.documentsui'])\n"
   ]
  },
  {
   "cell_type": "code",
   "execution_count": null,
   "metadata": {},
   "outputs": [],
   "source": [
    "sns.histplot(df_processes['p.android.packageinstaller'], kde=True, color='grey')"
   ]
  },
  {
   "cell_type": "code",
   "execution_count": null,
   "metadata": {},
   "outputs": [],
   "source": [
    "stats.probplot(df_processes[\"p.android.packageinstaller\"], dist=\"norm\", plot=plt)\n"
   ]
  },
  {
   "cell_type": "code",
   "execution_count": null,
   "metadata": {},
   "outputs": [],
   "source": [
    "stats.mode(df_processes['p.android.packageinstaller'])\n"
   ]
  },
  {
   "cell_type": "markdown",
   "metadata": {},
   "source": [
    "Podobne ako pre `df_connections` rovnako v `df_processes` sme vybrali stĺpce, ktoré mali významnú koreláciu (zistené v 1.1.D). Distribúcia na histograme stĺpca `p.android.documentsui` sa naviac podobá normálnej distribúcii v porovnaní s ostatnými distribúciami vybraných stĺpcov z `df_processes`. Niektoré distribúcie bolo hneď možné identifikovať že nejde o normálne distribúcie, každopádne sme pre všetky urobili `qqplot`, na ktorom bolo vidieť podstatný rozdiel normálovou distribúciou.\n",
    "\n",
    "Taktiež vidíme modus vybraných stĺpcov z dátoveho rámca `df_processes` čo sú vlastne najviac vyskytujúce sa hodnoty."
   ]
  },
  {
   "cell_type": "code",
   "execution_count": null,
   "metadata": {},
   "outputs": [],
   "source": [
    "print_normality_test(df_processes[\"p.android.gm\"])\n",
    "print_normality_test(df_processes[\"p.system\"])\n",
    "print_normality_test(df_processes[\"p.android.chrome\"])\n",
    "print_normality_test(df_processes[\"p.browser.provider\"])\n",
    "print_normality_test(df_processes[\"p.android.documentsui\"])\n",
    "print_normality_test(df_processes[\"p.android.packageinstaller\"])\n"
   ]
  },
  {
   "cell_type": "markdown",
   "metadata": {},
   "source": [
    "Počet záznamov je väčší ako 5000, preto bol použitý Kolmogorov-Smirnov (`kstest`) namiesto Shapiro-Wilk z ktorého vyplíva, že dáta vo vybraných stĺpcoch nespĺňajú normálovú distribúciu pretože p-hodnota je menšia ako 0.05."
   ]
  },
  {
   "cell_type": "markdown",
   "metadata": {},
   "source": [
    "**Profiles**"
   ]
  },
  {
   "cell_type": "code",
   "execution_count": null,
   "metadata": {},
   "outputs": [],
   "source": [
    "df_profiles.describe()"
   ]
  },
  {
   "cell_type": "markdown",
   "metadata": {},
   "source": [
    "- Máme štatistiku iba z atribútov, ktoré majú numerický dátový typ, avšak keďže ide o unikátne identifikátory, tak tieto štatistiky nemajú žiadny význam."
   ]
  },
  {
   "cell_type": "markdown",
   "metadata": {},
   "source": [
    "#### 1.1.C Párová analýza dát"
   ]
  },
  {
   "cell_type": "code",
   "execution_count": null,
   "metadata": {},
   "outputs": [],
   "source": [
    "# opens image generated by commented out sns.pairplot calls\n",
    "# it is done this way because the graphs are very big in size and take very long time to generate"
   ]
  },
  {
   "cell_type": "code",
   "execution_count": null,
   "metadata": {},
   "outputs": [],
   "source": [
    "#sns.pairplot(df_connections)\n",
    "Image.open('plots/pairplot_connections.png')"
   ]
  },
  {
   "cell_type": "code",
   "execution_count": null,
   "metadata": {},
   "outputs": [],
   "source": [
    "# sns.pairplot(df_devices)\n",
    "Image.open('plots/pairplot_devices.png')"
   ]
  },
  {
   "cell_type": "code",
   "execution_count": null,
   "metadata": {},
   "outputs": [],
   "source": [
    "#sns.pairplot(df_processes)\n",
    "Image.open('plots/pairplot_processes.png')"
   ]
  },
  {
   "cell_type": "code",
   "execution_count": null,
   "metadata": {},
   "outputs": [],
   "source": [
    "# sns.pairplot(df_profiles)\n",
    "Image.open('plots/pairplot_profiles.png')"
   ]
  },
  {
   "cell_type": "markdown",
   "metadata": {},
   "source": [
    "V `df_connections` nie je okom viditeľná žiadna korelácia a distribúcie stĺpcových hodnôt nadobúdajú rôzne typy ako sú uniformná, normálna (niektoré sa trochu podobajú a iné zasa sú 'skewed').\n",
    "V `df_devices` nemá veľa numerických stĺpcov a nedáva nič hodnotné. Jedine sa dá vyčítať z akých častí sveta je aké množstvo záznamov.\n",
    "V `df_processes` je veľmi podobné ako v `df_connections`, až na to že je viditeľná nelineárna korelácia medzi `p.browser.provider` a `p.system`. Taktiež distribúcia `p.browser.provider` je veľmi 'skewed'.\n",
    "V `df_profiles` podobne ako `df_devices` nedáva nič zmysluplné."
   ]
  },
  {
   "cell_type": "markdown",
   "metadata": {},
   "source": [
    "#### 1.1.D Párová analýza dát medzi predikovanou premennou"
   ]
  },
  {
   "cell_type": "code",
   "execution_count": null,
   "metadata": {},
   "outputs": [],
   "source": [
    "target_predictor = 'mwra'\n",
    "strong_predictors = pd.DataFrame()\n",
    "moderate_predictors = pd.DataFrame()\n",
    "weak_predictors = pd.DataFrame()"
   ]
  },
  {
   "cell_type": "code",
   "execution_count": null,
   "metadata": {},
   "outputs": [],
   "source": [
    "def numerical_prediction(df):\n",
    "    global strong_predictors, moderate_predictors, weak_predictors\n",
    "    numerical_columns = df.select_dtypes(include=['int64', 'float64']).columns\n",
    "    corr_matrix = df[numerical_columns].corr()\n",
    "    corrs = corr_matrix[[target_predictor]].sort_values(by=target_predictor, ascending=False)\n",
    "    corrs = corrs.drop('mwra')\n",
    "    sns.heatmap(corrs, annot=True, cmap='coolwarm')\n",
    "    plt.title(f'Correlation of {target_predictor} with numerical predictors')\n",
    "    plt.show()\n",
    "    strong_predictors = pd.concat([strong_predictors, pd.DataFrame(np.where(abs(corrs) > 0.7, corrs, np.nan), columns=corrs.columns, index=corrs.index).dropna()])\n",
    "    moderate_predictors = pd.concat([moderate_predictors, pd.DataFrame(np.where((abs(corrs) > 0.5) & (abs(corrs) <= 0.7), corrs, np.nan), columns=corrs.columns, index=corrs.index).dropna()])\n",
    "    weak_predictors = pd.concat([weak_predictors, pd.DataFrame(np.where((abs(corrs) > 0.25) & (abs(corrs) <= 0.5), corrs, np.nan), columns=corrs.columns, index=corrs.index).dropna()])"
   ]
  },
  {
   "cell_type": "markdown",
   "metadata": {},
   "source": [
    "Funkcia `numerical_prediction` získa prediktory pre dátový rámec, ktorý dostane ako parameter. Získané prediktory akumuluje do globálnych premenných `strong_predictors`, `moderate_predictors` a `weak_predictors`. To sú kategorizované premenné, ktoré v páre so stĺpcom `mwra` majú koreláciu viac ako `0.7` pre `strong`, viac ako `0.5` a menej ako `0.7` pre `moderate` a viac ako `0.25` (bolo by lepšie, keby toto číslo bolo 0.3, ale chceli sme zvýšiť počet prediktorov a ak budú dávať zlé výsledky, môžeme ich kedykoľvek vyhodiť) a menej ako `0.5` pre `weak`. Taktiež, pri volaní zobrazí heatmapu vypočítaných korelácií, aby poskytla vizuálny prehľad o vzťahoch medzi premennými."
   ]
  },
  {
   "cell_type": "code",
   "execution_count": null,
   "metadata": {},
   "outputs": [],
   "source": [
    "numerical_prediction(df_connections)"
   ]
  },
  {
   "cell_type": "markdown",
   "metadata": {},
   "source": [
    "Tento graf nám hovorí o tom, ktoré premenné z dátového rámca `df_connections` korelujú s našou predikovanou premennou `mwra`.\n",
    "Môžeme vidieť že stĺpce `c.dogalize`, `c.android.chrome` a `c.katana` majú najvyššiu koreláciu s predikovanou premennou `mwra`."
   ]
  },
  {
   "cell_type": "code",
   "execution_count": null,
   "metadata": {},
   "outputs": [],
   "source": [
    "numerical_prediction(df_processes)"
   ]
  },
  {
   "cell_type": "markdown",
   "metadata": {},
   "source": [
    "Tento graf nám hovorí o tom, ktoré premenné z dátového rámca `df_processes` korelujú s našou predikovanou premennou `mwra`.\n",
    "Môžeme vidieť že stĺpce `p.android.gm`, `p.system`, `p.android.chrome`, `p.android.documentsui` a `p.android.packageinstaller` majú najvyššiu koreláciu s predikovanou premennou `mwra`."
   ]
  },
  {
   "cell_type": "code",
   "execution_count": null,
   "metadata": {},
   "outputs": [],
   "source": [
    "print(strong_predictors)"
   ]
  },
  {
   "cell_type": "code",
   "execution_count": null,
   "metadata": {},
   "outputs": [],
   "source": [
    "print(moderate_predictors)"
   ]
  },
  {
   "cell_type": "code",
   "execution_count": null,
   "metadata": {},
   "outputs": [],
   "source": [
    "print(weak_predictors)"
   ]
  },
  {
   "cell_type": "markdown",
   "metadata": {},
   "source": [
    "Tu môžeme vidieť že nemáme žiadne silné predikátory (korelácia `> 0.7`).\n",
    "Máme však stredne silné a slabšie predikátory."
   ]
  },
  {
   "cell_type": "markdown",
   "metadata": {},
   "source": [
    "#### 1.1.E Zamyslenie k riešeniu projektu"
   ]
  },
  {
   "cell_type": "markdown",
   "metadata": {},
   "source": [
    "Pomocou párovej analýzi sme zistili nejakú koreláciu resp. závisloť premenných. Konkrétne mali najsilnejšiu koreláciu s predikovanou premennou `mwra` tieto stĺpce:\n",
    "- c.dogalize\n",
    "- p.android.gm\n",
    "- p.android.packageinstaller\n",
    "\n",
    "Kedže sa nachádzajú v iných dátových rámcoch, bude potrebné ich spojiť pomocou `imei`.\n",
    "\n",
    "Podľa toho, ako dáta vyzerajú a čo sme zistili, tak si myslíme že ide o nejaké využitie CPU s tým že CPU môže mať viacero jadier a preto hodnoty premenných nedávajú súčet 100 ale viacej čo by znamenalo že by mohlo ísť o viacej jadrové CPU (napr. 8), ale toto je iba naša teória.\n",
    "\n",
    "Je vysoko pravdepodobné že bude treba spájať dané dáta pretože aj `devices.csv` aj `processes.csv` majú stĺpec `mwra` a budeme muset zistit koreláciu naprieč týmito dátami."
   ]
  },
  {
   "cell_type": "markdown",
   "metadata": {},
   "source": [
    "### 1.2 Identifikácia problémov, integrácia a čistenie dát"
   ]
  },
  {
   "cell_type": "markdown",
   "metadata": {},
   "source": [
    "#### 1.2.A Identifikácia a prvotné riešenie problémov v dátach"
   ]
  },
  {
   "cell_type": "markdown",
   "metadata": {},
   "source": [
    "##### Namapovanie premenných typu `string` na numerické hodnoty"
   ]
  },
  {
   "cell_type": "code",
   "execution_count": null,
   "metadata": {},
   "outputs": [],
   "source": [
    "df_devices.info()"
   ]
  },
  {
   "cell_type": "code",
   "execution_count": null,
   "metadata": {},
   "outputs": [],
   "source": [
    "connections_string_columns = set(copy(df_connections.select_dtypes(include=['object']).columns))\n",
    "devices_string_columns = set(copy(df_devices.select_dtypes(include=['object']).columns))\n",
    "processes_string_columns = set(copy(df_processes.select_dtypes(include=['object']).columns))\n",
    "profiles_string_columns = set(copy(df_profiles.select_dtypes(include=['object']).columns))\n",
    "string_columns = list(connections_string_columns | devices_string_columns | processes_string_columns | profiles_string_columns)\n",
    "print(string_columns)"
   ]
  },
  {
   "cell_type": "markdown",
   "metadata": {},
   "source": [
    "##### Vymazanie duplikátov v dátach"
   ]
  },
  {
   "cell_type": "code",
   "execution_count": null,
   "metadata": {},
   "outputs": [],
   "source": [
    "def remove_duplicates(df):\n",
    "    pre_count = df.duplicated().count()\n",
    "    df = df.drop_duplicates()\n",
    "    post_count = df.duplicated().count()\n",
    "    print(f\"removed {pre_count - post_count} duplicates\")\n",
    "    return df"
   ]
  },
  {
   "cell_type": "code",
   "execution_count": null,
   "metadata": {},
   "outputs": [],
   "source": [
    "df_connections = remove_duplicates(df_connections)"
   ]
  },
  {
   "cell_type": "code",
   "execution_count": null,
   "metadata": {},
   "outputs": [],
   "source": [
    "df_devices = remove_duplicates(df_devices)"
   ]
  },
  {
   "cell_type": "code",
   "execution_count": null,
   "metadata": {},
   "outputs": [],
   "source": [
    "df_processes = remove_duplicates(df_processes)"
   ]
  },
  {
   "cell_type": "code",
   "execution_count": null,
   "metadata": {},
   "outputs": [],
   "source": [
    "df_profiles = remove_duplicates(df_profiles)"
   ]
  },
  {
   "cell_type": "markdown",
   "metadata": {},
   "source": [
    "#### 1.2.B Chýbajúce hodnoty (missing values)"
   ]
  },
  {
   "cell_type": "code",
   "execution_count": null,
   "metadata": {},
   "outputs": [],
   "source": [
    "def printNonesAndNA(label, df):\n",
    "    nulls = df.isnull().sum()\n",
    "    if (nulls.sum()):\n",
    "        df_temp = pd.DataFrame(np.where(nulls > 0, nulls, np.nan), index=nulls.index, columns=['null_count']).dropna()\n",
    "        df_temp['percentage'] = df_temp.apply(lambda x: x / df.shape[0] * 100)\n",
    "        print(label)\n",
    "        print(df_temp)\n",
    "        print()\n",
    "        return df_temp"
   ]
  },
  {
   "cell_type": "code",
   "execution_count": null,
   "metadata": {},
   "outputs": [],
   "source": [
    "printNonesAndNA(\"df_connections\", df_connections)\n",
    "printNonesAndNA(\"df_devices\", df_devices)\n",
    "printNonesAndNA(\"df_processes\", df_processes)\n",
    "profiles_null_columns = printNonesAndNA(\"df_profiles\", df_profiles)"
   ]
  },
  {
   "cell_type": "markdown",
   "metadata": {},
   "source": [
    "Z tejto funckie sme zistili, že nám chýbajú hodnoty iba z dataframu `df_profiles`, ktoré sú výhradne typu `string` a ich počet vzhľadom ku celkovému počtu záznamov je veľmi veľký, takže dané stĺpce môžeme odstrániť pretože by pre nás nemali žiadnu hodnotu. Kedže sú to nie numerické dáta, tak by sme ich nemohli nijako nahradiť."
   ]
  },
  {
   "cell_type": "code",
   "execution_count": null,
   "metadata": {},
   "outputs": [],
   "source": [
    "df_profiles.drop(columns=profiles_null_columns.index, axis=1)"
   ]
  },
  {
   "cell_type": "markdown",
   "metadata": {},
   "source": [
    "#### 1.2.C Vychýlené hodnoty (outlier detection)"
   ]
  },
  {
   "cell_type": "markdown",
   "metadata": {},
   "source": [
    "Na ukážku si vykreslíme boxploty pre vybrané atribúty a zistíme, či sa v nich nachádzajú nejaké vychýlené hodnoty. Naše atribúty sú premenné, ktoré najviac korelovali s predikovanou premennou `mwra` a teda sú to:\n",
    "- c.dogalize\n",
    "- p.android.gm\n",
    "- p.android.packageinstaller"
   ]
  },
  {
   "cell_type": "code",
   "execution_count": null,
   "metadata": {},
   "outputs": [],
   "source": [
    "sns.boxplot(x='mwra', y='c.dogalize', data=df_connections)"
   ]
  },
  {
   "cell_type": "code",
   "execution_count": null,
   "metadata": {},
   "outputs": [],
   "source": [
    "sns.boxplot(x='mwra', y='p.android.gm', data=df_processes)"
   ]
  },
  {
   "cell_type": "code",
   "execution_count": null,
   "metadata": {},
   "outputs": [],
   "source": [
    "sns.boxplot(x='mwra', y='p.android.packageinstaller', data=df_processes)"
   ]
  },
  {
   "cell_type": "markdown",
   "metadata": {},
   "source": [
    "Následne identifikujeme outlierov pomocou IQR metódy a overíme že ich skutočne máme."
   ]
  },
  {
   "cell_type": "code",
   "execution_count": null,
   "metadata": {},
   "outputs": [],
   "source": [
    "# zdroj z cvicenia\n",
    "def identify_outliers(data):\n",
    "    lower = data.quantile(0.25) - 1.5 * stats.iqr(data)\n",
    "    upper = data.quantile(0.75) + 1.5 * stats.iqr(data)\n",
    "    return data[(data > upper) | (data < lower)]"
   ]
  },
  {
   "cell_type": "code",
   "execution_count": null,
   "metadata": {},
   "outputs": [],
   "source": [
    "def identify_outliers_for_all_columns(df):\n",
    "    val = {}\n",
    "    columns = df.select_dtypes(exclude=['object']).columns\n",
    "    for column in columns:\n",
    "        outlier_count = identify_outliers(df[column]).count()\n",
    "        if outlier_count > 0:\n",
    "            val[column] = outlier_count\n",
    "    return val"
   ]
  },
  {
   "cell_type": "code",
   "execution_count": null,
   "metadata": {},
   "outputs": [],
   "source": [
    "identify_outliers_for_all_columns(df_connections)"
   ]
  },
  {
   "cell_type": "code",
   "execution_count": null,
   "metadata": {},
   "outputs": [],
   "source": [
    "identify_outliers_for_all_columns(df_devices)"
   ]
  },
  {
   "cell_type": "code",
   "execution_count": null,
   "metadata": {},
   "outputs": [],
   "source": [
    "identify_outliers_for_all_columns(df_processes)"
   ]
  },
  {
   "cell_type": "code",
   "execution_count": null,
   "metadata": {},
   "outputs": [],
   "source": [
    "identify_outliers_for_all_columns(df_profiles)"
   ]
  },
  {
   "cell_type": "markdown",
   "metadata": {},
   "source": [
    "Zistili sme že ich máme relatívne málo vzhľadom na počet záznamov, takže ich môžeme odstrániť."
   ]
  },
  {
   "cell_type": "code",
   "execution_count": null,
   "metadata": {},
   "outputs": [],
   "source": [
    "def remove_outliers_for_all_columns(df):\n",
    "    df_temp = df.copy()\n",
    "    indices = pd.DataFrame({})\n",
    "    accumulated_indices = set()\n",
    "    for column in df_temp.select_dtypes(exclude=['object']).columns:\n",
    "        accumulated_indices |= set(identify_outliers(df_temp[column]).index)\n",
    "    df_temp = df_temp.drop(accumulated_indices)\n",
    "    return df_temp"
   ]
  },
  {
   "cell_type": "code",
   "execution_count": null,
   "metadata": {},
   "outputs": [],
   "source": [
    "df_connections = remove_outliers_for_all_columns(df_connections)\n",
    "# df_devices = remove_outliers_for_all_columns(df_devices)\n",
    "df_processes = remove_outliers_for_all_columns(df_processes)\n",
    "# df_profiles = remove_outliers_for_all_columns(df_profiles)"
   ]
  },
  {
   "cell_type": "markdown",
   "metadata": {},
   "source": [
    "Ostránime iba outlierov z dátového rámca `df_processes` a `df_connections` pretože, v dátovom rámci `df_devices` a `df_profiles` nemáme žiadne numerické hodnoty, s ktorými je vhodné pracovať. (Zemepisné súradnice a unikátne identifikátory)\n",
    "Po odstránení outlierov si možeme znova identifikovať či náhodou nejakých ešte nemáme."
   ]
  },
  {
   "cell_type": "code",
   "execution_count": null,
   "metadata": {},
   "outputs": [],
   "source": [
    "identify_outliers_for_all_columns(df_connections)"
   ]
  },
  {
   "cell_type": "code",
   "execution_count": null,
   "metadata": {},
   "outputs": [],
   "source": [
    "identify_outliers_for_all_columns(df_processes)"
   ]
  },
  {
   "cell_type": "markdown",
   "metadata": {},
   "source": [
    "Zistili sme že napriek úvodnému odstráneniu mám stále outlierov. Deje sa to z toho dôvodu, že sa vlastne distibúcia posunie a preto sa nám objavili nový outliery. Keby takto pokračujeme a odstraňujeme stále dáta, tak by sme prišli o veľký počet záznamov a preto sme sa rozhodli ich nahradiť hraničnými hodnotami (5% a 95%)."
   ]
  },
  {
   "cell_type": "code",
   "execution_count": null,
   "metadata": {},
   "outputs": [],
   "source": [
    "sns.boxplot(x='mwra', y='p.browser.provider', data=df_processes)"
   ]
  },
  {
   "cell_type": "code",
   "execution_count": null,
   "metadata": {},
   "outputs": [],
   "source": [
    "sns.histplot(df_processes['p.browser.provider'], kde=True, color='blue')"
   ]
  },
  {
   "cell_type": "code",
   "execution_count": null,
   "metadata": {},
   "outputs": [],
   "source": [
    "def replace_outliers_with_percentiles(df):\n",
    "    df_temp = df.copy()\n",
    "    for column in df_temp.select_dtypes(exclude=['object']).columns:\n",
    "        lower_bound = df_temp[column].quantile(0.05)\n",
    "        upper_bound = df_temp[column].quantile(0.95)\n",
    "        lower_outliers = df_temp[column] < lower_bound\n",
    "        upper_outliers = df_temp[column] > upper_bound\n",
    "        df_temp.loc[lower_outliers, column] = lower_bound\n",
    "        df_temp.loc[upper_outliers, column] = upper_bound\n",
    "    return df_temp"
   ]
  },
  {
   "cell_type": "code",
   "execution_count": null,
   "metadata": {},
   "outputs": [],
   "source": [
    "df_connections = replace_outliers_with_percentiles(df_connections)\n",
    "df_devices = replace_outliers_with_percentiles(df_devices)\n",
    "df_processes = replace_outliers_with_percentiles(df_processes)\n",
    "df_profiles = replace_outliers_with_percentiles(df_profiles)"
   ]
  },
  {
   "cell_type": "code",
   "execution_count": null,
   "metadata": {},
   "outputs": [],
   "source": [
    "identify_outliers_for_all_columns(df_connections)"
   ]
  },
  {
   "cell_type": "code",
   "execution_count": null,
   "metadata": {},
   "outputs": [],
   "source": [
    "identify_outliers_for_all_columns(df_devices)"
   ]
  },
  {
   "cell_type": "code",
   "execution_count": null,
   "metadata": {},
   "outputs": [],
   "source": [
    "identify_outliers_for_all_columns(df_processes)"
   ]
  },
  {
   "cell_type": "code",
   "execution_count": null,
   "metadata": {},
   "outputs": [],
   "source": [
    "identify_outliers_for_all_columns(df_profiles)"
   ]
  },
  {
   "cell_type": "code",
   "execution_count": null,
   "metadata": {},
   "outputs": [],
   "source": [
    "# histogram\n",
    "sns.histplot(df_processes['p.browser.provider'], kde=True, color='blue')"
   ]
  },
  {
   "cell_type": "markdown",
   "metadata": {},
   "source": [
    "Ako vidíme z výpisu dát, tak sa nám podarilo všetkých outlierov bud odstrániť alebo nahradiť hraničnými hodnotami.\n",
    "Jedniou výnimkou je `p.browser.provider` a to z dôvodu ako vyzerá jeho distribúcia. Preto sme sa rozhodli to nemeniť, pretože by sme pri iteratívnom odstraňovaní prišli o veľký počet záznamov."
   ]
  },
  {
   "cell_type": "markdown",
   "metadata": {},
   "source": [
    "### 1.3 Formulácia a štatistické overenie hypotéz o dátach"
   ]
  },
  {
   "cell_type": "markdown",
   "metadata": {},
   "source": [
    "#### 1.3.A Formulácia hypotéz"
   ]
  },
  {
   "cell_type": "markdown",
   "metadata": {},
   "source": [
    "##### Hypotéza č.1"
   ]
  },
  {
   "cell_type": "markdown",
   "metadata": {},
   "source": [
    "Zvolíme si náš \"significance level\" na $\\alpha = 0.05$. (95%)"
   ]
  },
  {
   "cell_type": "markdown",
   "metadata": {},
   "source": [
    "Null hypothesis (nulová hypotéza):\n",
    "\n",
    "$H_0$: Premenná `p.android.gm` má v priemere rovnakú váhu v stave malware-related-activity ako v normálnom stave.\n",
    "\n",
    "Alternative hypothesis (alternatívna hypotéza):\n",
    "$H_1$ = $H_A$: Premenná `p.android.gm` má v priemere inú váhu v stave malware-related-activity ako v normálnom stave. (Nižšiu alebo vyššiu)"
   ]
  },
  {
   "cell_type": "markdown",
   "metadata": {},
   "source": [
    "**Najskôr si musíme overiť či dáta spĺňajú normálovú distribúciu**"
   ]
  },
  {
   "cell_type": "markdown",
   "metadata": {},
   "source": [
    "Takto vyzerá náš boxplot, ktorý nám ukazuje distribúciu hodnôt pre premennú `p.android.gm` v závislosti od `mwra`."
   ]
  },
  {
   "cell_type": "code",
   "execution_count": null,
   "metadata": {},
   "outputs": [],
   "source": [
    "sns.boxplot(x='mwra', y='p.android.gm', data=df_processes)"
   ]
  },
  {
   "cell_type": "code",
   "execution_count": null,
   "metadata": {},
   "outputs": [],
   "source": [
    "p_android_gm_0 = df_processes.loc[df_processes.mwra == 0, 'p.android.gm']\n",
    "p_android_gm_0.describe()"
   ]
  },
  {
   "cell_type": "code",
   "execution_count": null,
   "metadata": {},
   "outputs": [],
   "source": [
    "sns.histplot(p_android_gm_0)"
   ]
  },
  {
   "cell_type": "code",
   "execution_count": null,
   "metadata": {},
   "outputs": [],
   "source": [
    "p_android_gm_1 = df_processes.loc[df_processes.mwra == 1, 'p.android.gm']\n",
    "p_android_gm_1.describe()"
   ]
  },
  {
   "cell_type": "code",
   "execution_count": null,
   "metadata": {},
   "outputs": [],
   "source": [
    "sns.histplot(p_android_gm_1)"
   ]
  },
  {
   "cell_type": "markdown",
   "metadata": {},
   "source": [
    "Z týchto distribúcií môžeme vidieť, že nevyzerajú ako normálne distribúcie, preto musíme pokračovať s overením."
   ]
  },
  {
   "cell_type": "code",
   "execution_count": null,
   "metadata": {},
   "outputs": [],
   "source": [
    "p_android_gm_0_outliers = identify_outliers(p_android_gm_0)\n",
    "p_android_gm_1_outliers = identify_outliers(p_android_gm_1)"
   ]
  },
  {
   "cell_type": "code",
   "execution_count": null,
   "metadata": {},
   "outputs": [],
   "source": [
    "p_android_gm_0_outliers.count()"
   ]
  },
  {
   "cell_type": "code",
   "execution_count": null,
   "metadata": {},
   "outputs": [],
   "source": [
    "p_android_gm_1_outliers.count()"
   ]
  },
  {
   "cell_type": "code",
   "execution_count": null,
   "metadata": {},
   "outputs": [],
   "source": [
    "p_android_gm_0 = p_android_gm_0.drop(p_android_gm_0_outliers.index)\n",
    "p_android_gm_1 = p_android_gm_1.drop(p_android_gm_1_outliers.index)"
   ]
  },
  {
   "cell_type": "code",
   "execution_count": null,
   "metadata": {},
   "outputs": [],
   "source": [
    "sns.histplot(p_android_gm_1)"
   ]
  },
  {
   "cell_type": "markdown",
   "metadata": {},
   "source": [
    "Vidíme že aj po vyhodení outlierov sa nám distribúcia nezmenila a preto môžeme pokračovať s testovaním."
   ]
  },
  {
   "cell_type": "code",
   "execution_count": null,
   "metadata": {},
   "outputs": [],
   "source": [
    "_ = sm.ProbPlot(p_android_gm_0, fit=True).qqplot(line='45')"
   ]
  },
  {
   "cell_type": "code",
   "execution_count": null,
   "metadata": {},
   "outputs": [],
   "source": [
    "_ = sm.ProbPlot(p_android_gm_1, fit=True).qqplot(line='45')\n"
   ]
  },
  {
   "cell_type": "markdown",
   "metadata": {},
   "source": [
    "Ani `QQ-plot` nám nepotvrdil normálnu distribúciu. Pretože aby bola distribúcia normálna, tak by sa body museli nachádzať na priamke definovanej ako $x=y$."
   ]
  },
  {
   "cell_type": "code",
   "execution_count": null,
   "metadata": {},
   "outputs": [],
   "source": [
    "p_android_gm_0.count()"
   ]
  },
  {
   "cell_type": "code",
   "execution_count": null,
   "metadata": {},
   "outputs": [],
   "source": [
    "p_android_gm_1.count()"
   ]
  },
  {
   "cell_type": "markdown",
   "metadata": {},
   "source": [
    "Musíme použiť štatistický test, ktorý nám povie či dáta majú normálnu distribúciu alebo nie. Použijeme `Kolmogorov-Smirnov` test namiesto `Shapiro-Wilk` pretože počet záznamov je väčší ako 5000."
   ]
  },
  {
   "cell_type": "code",
   "execution_count": null,
   "metadata": {},
   "outputs": [],
   "source": [
    "print_normality_test(p_android_gm_0)"
   ]
  },
  {
   "cell_type": "code",
   "execution_count": null,
   "metadata": {},
   "outputs": [],
   "source": [
    "print_normality_test(p_android_gm_1)"
   ]
  },
  {
   "cell_type": "markdown",
   "metadata": {},
   "source": [
    "Výsledok testu nám potvrdil, že dáta nemajú normálnu distribúciu, preto musíme použiť neparametrický test na overenie hypotézy. Pretože p hodnota je menšia ako 0.05."
   ]
  },
  {
   "cell_type": "markdown",
   "metadata": {},
   "source": [
    "Použijeme `Mann-Whitney U Test` pretože máme práve dve premenné a zároveň spĺňajú predpoklady pre tento test (vzorka musí byť aspoň 20)."
   ]
  },
  {
   "cell_type": "code",
   "execution_count": null,
   "metadata": {},
   "outputs": [],
   "source": [
    "stats.mannwhitneyu(p_android_gm_0, p_android_gm_1)"
   ]
  },
  {
   "cell_type": "markdown",
   "metadata": {},
   "source": [
    "Keďže nám vyšlo p menšie ako 0.05 tak zamietame nulovú hypotézu a prijímame alternatívnu hypotézu, že premenná `p.android.gm` má v priemere inú váhu v stave malware-related-activity ako v normálnom stave."
   ]
  },
  {
   "cell_type": "markdown",
   "metadata": {},
   "source": [
    "##### Hypotéza č.2"
   ]
  },
  {
   "cell_type": "markdown",
   "metadata": {},
   "source": [
    "Zvolíme si náš \"significance level\" na $\\alpha = 0.05$. (95%)"
   ]
  },
  {
   "cell_type": "markdown",
   "metadata": {},
   "source": [
    "Null hypothesis (nulová hypotéza):\n",
    "\n",
    "$H_0$: Premenná `p.android.packageinstaller` má v priemere rovnakú váhu v stave malware-related-activity ako v normálnom stave.\n",
    "\n",
    "Alternative hypothesis (alternatívna hypotéza):\n",
    "$H_1$ = $H_A$: Premenná `p.android.packageinstaller` má v priemere inú váhu v stave malware-related-activity ako v normálnom stave. (Nižšiu alebo vyššiu)"
   ]
  },
  {
   "cell_type": "markdown",
   "metadata": {},
   "source": [
    "**Najskôr si musíme overiť či dáta spĺňajú normálovú distribúciu**"
   ]
  },
  {
   "cell_type": "markdown",
   "metadata": {},
   "source": [
    "Takto vyzerá náš boxplot, ktorý nám ukazuje distribúciu hodnôt pre premennú `p.android.packageinstaller` v závislosti od `mwra`."
   ]
  },
  {
   "cell_type": "code",
   "execution_count": null,
   "metadata": {},
   "outputs": [],
   "source": [
    "sns.boxplot(x='mwra', y='p.android.packageinstaller', data=df_processes)"
   ]
  },
  {
   "cell_type": "code",
   "execution_count": null,
   "metadata": {},
   "outputs": [],
   "source": [
    "p_android_packageinstaller_0 = df_processes.loc[df_processes.mwra == 0, 'p.android.packageinstaller']\n",
    "p_android_packageinstaller_0.describe()"
   ]
  },
  {
   "cell_type": "code",
   "execution_count": null,
   "metadata": {},
   "outputs": [],
   "source": [
    "sns.histplot(p_android_packageinstaller_0)"
   ]
  },
  {
   "cell_type": "code",
   "execution_count": null,
   "metadata": {},
   "outputs": [],
   "source": [
    "p_android_packageinstaller_1 = df_processes.loc[df_processes.mwra == 1, 'p.android.packageinstaller']\n",
    "p_android_packageinstaller_1.describe()"
   ]
  },
  {
   "cell_type": "code",
   "execution_count": null,
   "metadata": {},
   "outputs": [],
   "source": [
    "sns.histplot(p_android_packageinstaller_1)"
   ]
  },
  {
   "cell_type": "markdown",
   "metadata": {},
   "source": [
    "Z týchto distribúcií môžeme vidieť, že nevyzerajú ako normálne distribúcie, preto musíme pokračovať s overením."
   ]
  },
  {
   "cell_type": "code",
   "execution_count": null,
   "metadata": {},
   "outputs": [],
   "source": [
    "p_android_packageinstaller_0_outliers = identify_outliers(p_android_packageinstaller_0)\n",
    "p_android_packageinstaller_1_outliers = identify_outliers(p_android_packageinstaller_1)"
   ]
  },
  {
   "cell_type": "code",
   "execution_count": null,
   "metadata": {},
   "outputs": [],
   "source": [
    "p_android_packageinstaller_0_outliers.count()"
   ]
  },
  {
   "cell_type": "code",
   "execution_count": null,
   "metadata": {},
   "outputs": [],
   "source": [
    "p_android_packageinstaller_1_outliers.count()"
   ]
  },
  {
   "cell_type": "code",
   "execution_count": null,
   "metadata": {},
   "outputs": [],
   "source": [
    "p_android_packageinstaller_0 = p_android_packageinstaller_0.drop(p_android_packageinstaller_0_outliers.index)\n",
    "p_android_packageinstaller_1 = p_android_packageinstaller_1.drop(p_android_packageinstaller_1_outliers.index)"
   ]
  },
  {
   "cell_type": "code",
   "execution_count": null,
   "metadata": {},
   "outputs": [],
   "source": [
    "sns.histplot(p_android_packageinstaller_0)"
   ]
  },
  {
   "cell_type": "code",
   "execution_count": null,
   "metadata": {},
   "outputs": [],
   "source": [
    "sns.histplot(p_android_packageinstaller_1)"
   ]
  },
  {
   "cell_type": "markdown",
   "metadata": {},
   "source": [
    "Vidíme že aj po vyhodení outlierov sa nám distribúcia nezmenila a preto môžeme pokračovať s testovaním."
   ]
  },
  {
   "cell_type": "code",
   "execution_count": null,
   "metadata": {},
   "outputs": [],
   "source": [
    "_ = sm.ProbPlot(p_android_packageinstaller_0, fit=True).qqplot(line='45')"
   ]
  },
  {
   "cell_type": "code",
   "execution_count": null,
   "metadata": {},
   "outputs": [],
   "source": [
    "_ = sm.ProbPlot(p_android_packageinstaller_1, fit=True).qqplot(line='45')"
   ]
  },
  {
   "cell_type": "markdown",
   "metadata": {},
   "source": [
    "Ani `QQ-plot` nám nepotvrdil normálnu distribúciu. Pretože aby bola distribúcia normálna, tak by sa body museli nachádzať na priamke definovanej ako $x=y$."
   ]
  },
  {
   "cell_type": "code",
   "execution_count": null,
   "metadata": {},
   "outputs": [],
   "source": [
    "p_android_packageinstaller_0.count()"
   ]
  },
  {
   "cell_type": "code",
   "execution_count": null,
   "metadata": {},
   "outputs": [],
   "source": [
    "p_android_packageinstaller_1.count()"
   ]
  },
  {
   "cell_type": "markdown",
   "metadata": {},
   "source": [
    "Musíme použiť štatistický test, ktorý nám povie či dáta majú normálnu distribúciu alebo nie. Použijeme `Shapiro-Wilk` test pre jednu premennú a `Kolmogorov-Smirnov` pre druhú premennú pretože pri jednej je počet záznamov je nižší ako 5000 a pri druhej vyšší."
   ]
  },
  {
   "cell_type": "code",
   "execution_count": null,
   "metadata": {},
   "outputs": [],
   "source": [
    "# Shapiro-Wilk test\n",
    "print_normality_test(p_android_packageinstaller_0)"
   ]
  },
  {
   "cell_type": "code",
   "execution_count": null,
   "metadata": {},
   "outputs": [],
   "source": [
    "# Kolmogorov-Smirnov test\n",
    "print_normality_test(p_android_packageinstaller_1)"
   ]
  },
  {
   "cell_type": "markdown",
   "metadata": {},
   "source": [
    "Výsledok testu nám potvrdil, že dáta nemajú normálnu distribúciu, preto musíme použiť neparametrický test na overenie hypotézy. Pretože p hodnota je menšia ako 0.05."
   ]
  },
  {
   "cell_type": "markdown",
   "metadata": {},
   "source": [
    "Použijeme `Mann-Whitney U Test` pretože máme práve dve premenné a zároveň spĺňajú predpoklady pre tento test (vzorka musí byť aspoň 20)."
   ]
  },
  {
   "cell_type": "code",
   "execution_count": null,
   "metadata": {},
   "outputs": [],
   "source": [
    "stats.mannwhitneyu(p_android_packageinstaller_0, p_android_packageinstaller_1)"
   ]
  },
  {
   "cell_type": "markdown",
   "metadata": {},
   "source": [
    "Keďže nám vyšlo p menšie ako 0.05 tak zamietame nulovú hypotézu a prijímame alternatívnu hypotézu, že premenná `p.android.packageinstaller` má v priemere inú váhu v stave malware-related-activity ako v normálnom stave."
   ]
  },
  {
   "cell_type": "markdown",
   "metadata": {},
   "source": [
    "#### 1.3.B Overenie štatistickej sily"
   ]
  },
  {
   "cell_type": "markdown",
   "metadata": {},
   "source": [
    "Kedže nám p values vyšli všetky menšie ako 0.001, tak môžeme povedať že naše testy mali veľkú štatistickú silu."
   ]
  },
  {
   "cell_type": "markdown",
   "metadata": {},
   "source": [
    "## Zdroje"
   ]
  },
  {
   "cell_type": "markdown",
   "metadata": {},
   "source": [
    "Prednášky a cvičenia z predmetu IAU.\n",
    "\n",
    "[IAU Github repozitár](https://github.com/FIIT-IAU/IAU-course)\n",
    "\n",
    "[Scipy dokumentácia](https://docs.scipy.org/doc/scipy/reference/index.html)\n",
    "\n",
    "[Numpy dokumentácia](https://numpy.org/doc/)\n",
    "\n",
    "[Pandas dokumentácia](https://pandas.pydata.org/docs/)\n",
    "\n",
    "https://work.thaslwanter.at/Stats/html/statsAnalysis.html\n"
   ]
  }
 ],
 "metadata": {
  "kernelspec": {
   "display_name": "Python 3",
   "language": "python",
   "name": "python3"
  },
  "language_info": {
   "codemirror_mode": {
    "name": "ipython",
    "version": 3
   },
   "file_extension": ".py",
   "mimetype": "text/x-python",
   "name": "python",
   "nbconvert_exporter": "python",
   "pygments_lexer": "ipython3",
   "version": "3.12.7"
  }
 },
 "nbformat": 4,
 "nbformat_minor": 2
}
