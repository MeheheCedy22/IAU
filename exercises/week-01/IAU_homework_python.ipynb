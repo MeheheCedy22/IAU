{
 "cells": [
  {
   "cell_type": "markdown",
   "metadata": {
    "colab_type": "text",
    "id": "PE4ExuwJjYZl"
   },
   "source": [
    "# Introduction to Python: DÚ"
   ]
  },
  {
   "cell_type": "code",
   "execution_count": 1,
   "metadata": {
    "colab": {},
    "colab_type": "code",
    "id": "m7dnZNjx26I_"
   },
   "outputs": [],
   "source": [
    "# -*- coding: utf-8 -*-\n",
    "#\n",
    "# Licensed under the Apache License, Version 2.0 (the \"License\");\n",
    "# you may not use this file except in compliance with the License.\n",
    "# You may obtain a copy of the License at\n",
    "#\n",
    "# http://www.apache.org/licenses/LICENSE-2.0\n",
    "#\n",
    "# Unless required by applicable law or agreed to in writing, software\n",
    "# distributed under the License is distributed on an \"AS IS\" BASIS,\n",
    "# WITHOUT WARRANTIES OR CONDITIONS OF ANY KIND, either express or\n",
    "# implied.\n",
    "# See the License for the specific language governing permissions and\n",
    "# limitations under the License.\n",
    "#"
   ]
  },
  {
   "cell_type": "markdown",
   "metadata": {
    "colab_type": "text",
    "id": "wtQeTdrV4kO_"
   },
   "source": [
    "Official python tutorial: [https://docs.python.org/3.8/tutorial/index.html](https://docs.python.org/3.8/tutorial/index.html) \n",
    "\n",
    "URL [https://github.com/jerry-git/learn-python3](https://github.com/jerry-git/learn-python3)"
   ]
  },
  {
   "cell_type": "markdown",
   "metadata": {
    "colab_type": "text",
    "id": "NNi-uBwHfdk0"
   },
   "source": [
    "## Task 1"
   ]
  },
  {
   "cell_type": "markdown",
   "metadata": {
    "colab_type": "text",
    "id": "X3eHvejdfgWj"
   },
   "source": [
    "You are given an array of strings:"
   ]
  },
  {
   "cell_type": "code",
   "execution_count": 2,
   "metadata": {
    "colab": {},
    "colab_type": "code",
    "id": "1qj5175CfnTd"
   },
   "outputs": [],
   "source": [
    "array_to_split = [\"Fiit\", \"fiit\", \"megadlhystring!!!\", \"autobiografia\", \"Alica\", \"python\", \"pip\", \"env\", \"jupyter\", \"IAU\"]"
   ]
  },
  {
   "cell_type": "markdown",
   "metadata": {
    "colab_type": "text",
    "id": "RaGmXpqghnQW"
   },
   "source": [
    "Write a function that, for the given array of strings, returns a new array containing only strings at prime indices. Then call this function with the field declared above as a parameter."
   ]
  },
  {
   "cell_type": "code",
   "execution_count": 3,
   "metadata": {
    "colab": {},
    "colab_type": "code",
    "id": "W8ed3W40h529"
   },
   "outputs": [
    {
     "data": {
      "text/plain": [
       "['fiit', 'megadlhystring!!!', 'Alica', 'pip']"
      ]
     },
     "execution_count": 3,
     "metadata": {},
     "output_type": "execute_result"
    }
   ],
   "source": [
    "def stringFromPrimeIndices(array):\n",
    "    arr_len = len(array)\n",
    "    feasible_indices = []\n",
    "    prime_indices = []\n",
    "    out_array = []\n",
    "    \n",
    "    if arr_len <= 1:\n",
    "        return None\n",
    "    elif arr_len == 2:\n",
    "        feasible_indices = [2]\n",
    "    elif arr_len == 3:\n",
    "        feasible_indices = [2,3]\n",
    "    elif arr_len > 3:\n",
    "        feasible_indices = [2] + [i for i in range(3, arr_len, 2)]\n",
    "    \n",
    "    while len(feasible_indices) != 0:\n",
    "        is_prime = True\n",
    "        current_index = feasible_indices.pop(0)\n",
    "        \n",
    "        for i in range(2, int(current_index**0.5) + 1):\n",
    "            if current_index % i == 0:\n",
    "                is_prime = False\n",
    "        \n",
    "        if is_prime:\n",
    "            prime_indices.append(current_index)\n",
    "     \n",
    "    for i in prime_indices:\n",
    "        out_array.append(array[i-1])\n",
    "    \n",
    "    return out_array\n",
    "\n",
    "stringFromPrimeIndices(array_to_split)"
   ]
  },
  {
   "cell_type": "markdown",
   "metadata": {
    "colab_type": "text",
    "id": "OsdZWqFsfvgk"
   },
   "source": [
    "Write a program that divides the above declared array into 3 new arrays, where in one array there will be strings of length less than 5. In the second array, strings of length between 5 and 10 (inclusive) and strings starting with the letter \"a\" or any uppercase letter while string of **any** length. In the third field, all other thongs."
   ]
  },
  {
   "cell_type": "code",
   "execution_count": 4,
   "metadata": {
    "colab": {},
    "colab_type": "code",
    "id": "19OHF7shiDI9"
   },
   "outputs": [
    {
     "name": "stdout",
     "output_type": "stream",
     "text": [
      "['Fiit', 'fiit', 'pip', 'env', 'IAU']\n",
      "['Fiit', 'autobiografia', 'Alica', 'python', 'jupyter', 'IAU']\n",
      "['megadlhystring!!!']\n"
     ]
    }
   ],
   "source": [
    "first = []\n",
    "second = []\n",
    "third = []\n",
    "\n",
    "new_arr = array_to_split.copy()\n",
    "\n",
    "for string in new_arr:\n",
    "    added = False\n",
    "    if len(string) < 5:\n",
    "        first.append(string)\n",
    "        # new_arr.remove(string)\n",
    "        # continue\n",
    "        added = True\n",
    "    if (len(string) >= 5 and len(string) <= 10 or string[0] == 'a') or string[0].isupper():\n",
    "        second.append(string)\n",
    "        # new_arr.remove(string)\n",
    "        # continue\n",
    "        added = True\n",
    "    \n",
    "    if not added:\n",
    "        third.append(string)\n",
    "        \n",
    "print(first)\n",
    "print(second)\n",
    "print(third)"
   ]
  },
  {
   "cell_type": "markdown",
   "metadata": {
    "colab_type": "text",
    "id": "-sZ6ISJMp1bR"
   },
   "source": [
    "## Task 2"
   ]
  },
  {
   "cell_type": "markdown",
   "metadata": {
    "colab_type": "text",
    "id": "MzlqAVbwp4qL"
   },
   "source": [
    "We have entered an array of numbers of type Interger (int)."
   ]
  },
  {
   "cell_type": "code",
   "execution_count": 5,
   "metadata": {
    "colab": {},
    "colab_type": "code",
    "id": "9dEavPgJp7b1"
   },
   "outputs": [],
   "source": [
    "array1 = [1, 4, 5, 1, 7, 5, 1, 5, 4, 2, 3, 4]\n",
    "array2 = [1,2,3,4,5,5,6,6,4,4,5,5,12,12,1,1,1,1,1,2,1]\n",
    "array3 = [1,1,2,20]"
   ]
  },
  {
   "cell_type": "markdown",
   "metadata": {
    "colab_type": "text",
    "id": "Ie99LXSfqacF"
   },
   "source": [
    "Write a function that tells us, for an array of ints, whether the array can be split into two arrays with the same sum. Then call this function on the field declared above. List two such fields (any that satisfy the condition of equal sum)."
   ]
  },
  {
   "cell_type": "code",
   "execution_count": 6,
   "metadata": {},
   "outputs": [
    {
     "name": "stdout",
     "output_type": "stream",
     "text": [
      "Array: [1, 4, 5, 1, 7, 5, 1, 5, 4, 2, 3, 4]\n",
      "Can be divided? YES\n",
      "Two sub-arrays: ([1, 5, 1, 5, 1, 4, 4], [7, 5, 2, 3, 4])\n",
      "\n",
      "Array: [1, 2, 3, 4, 5, 5, 6, 6, 4, 4, 5, 5, 12, 12, 1, 1, 1, 1, 1, 2, 1]\n",
      "Can be divided? YES\n",
      "Two sub-arrays: ([5, 5, 4, 12, 12, 2, 1], [3, 6, 6, 4, 4, 5, 5, 1, 1, 1, 1, 1, 2, 1])\n",
      "\n",
      "Array: [1, 1, 2, 20]\n",
      "Can be divided? NO\n",
      "Two sub-arrays: ([], [])\n",
      "\n"
     ]
    }
   ],
   "source": [
    "from itertools import combinations\n",
    "\n",
    "\n",
    "def splitArray(array):\n",
    "    print(f\"Array: {array}\")\n",
    "    arr_len = len(array)\n",
    "    out = ([], [])\n",
    "    all_combinations = []\n",
    "    reduced_combinations = []\n",
    "    sum_of_arr = sum(array)\n",
    "    # print(f\"Sum of array: {sum_of_arr}\")\n",
    "    # print(f\"Array length: {arr_len}\")\n",
    "\n",
    "    if (sum_of_arr % 2) != 0:\n",
    "        print(\"FALSE\")\n",
    "        return out\n",
    "\n",
    "    for i in range(1, arr_len):\n",
    "        all_combinations += list(combinations(array, i))\n",
    "\n",
    "    for i in range(len(all_combinations)):\n",
    "        if sum_of_arr / 2 == sum(all_combinations[i]):\n",
    "            reduced_combinations.append(all_combinations[i])\n",
    "\n",
    "    reduced_combinations = set(reduced_combinations)\n",
    "\n",
    "    for comb1 in reduced_combinations:\n",
    "        comb2 = array.copy()  # whole array\n",
    "        for item in comb1:\n",
    "            if item in comb2:\n",
    "                comb2.remove(item)\n",
    "\n",
    "        if sum(comb1) == sum(comb2) and len(comb1) + len(comb2) == arr_len:  # here the comb2 is just the rest of the array\n",
    "            out = (list(comb1), comb2)  # cast to list for better printing\n",
    "            break\n",
    "\n",
    "    if out != ([], []):\n",
    "        print(\"Can be divided? YES\")\n",
    "    else:\n",
    "        print(\"Can be divided? NO\")\n",
    "\n",
    "    return out\n",
    "\n",
    "\n",
    "# testing arrays\n",
    "# arr2 = [1, 1, 2, 2]\n",
    "# print(splitArray(arr2), end=\"\\n\\n\")\n",
    "# \n",
    "# arr3 = [1, 1, 2, 3, 6, 1]\n",
    "# print(splitArray(arr3), end=\"\\n\\n\")\n",
    "# \n",
    "# arr = [1,2,3,6]\n",
    "# print(splitArray(arr), end=\"\\n\\n\")\n",
    "\n",
    "\n",
    "print(f\"Two sub-arrays: {splitArray(array1)}\", end=\"\\n\\n\")\n",
    "print(f\"Two sub-arrays: {splitArray(array2)}\", end=\"\\n\\n\")\n",
    "print(f\"Two sub-arrays: {splitArray(array3)}\", end=\"\\n\\n\")\n"
   ]
  }
 ],
 "metadata": {
  "colab": {
   "collapsed_sections": [],
   "name": "IAU_uvod_do_pythonu.ipynb",
   "provenance": []
  },
  "kernelspec": {
   "display_name": "Python 3 (ipykernel)",
   "language": "python",
   "name": "python3"
  },
  "language_info": {
   "codemirror_mode": {
    "name": "ipython",
    "version": 3
   },
   "file_extension": ".py",
   "mimetype": "text/x-python",
   "name": "python",
   "nbconvert_exporter": "python",
   "pygments_lexer": "ipython3",
   "version": "3.12.6"
  }
 },
 "nbformat": 4,
 "nbformat_minor": 4
}
